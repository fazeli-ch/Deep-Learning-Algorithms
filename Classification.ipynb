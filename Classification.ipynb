{
  "nbformat": 4,
  "nbformat_minor": 0,
  "metadata": {
    "colab": {
      "name": "Classification.ipynb",
      "provenance": [],
      "collapsed_sections": [],
      "include_colab_link": true
    },
    "kernelspec": {
      "name": "python3",
      "display_name": "Python 3"
    },
    "language_info": {
      "name": "python"
    }
  },
  "cells": [
    {
      "cell_type": "markdown",
      "metadata": {
        "id": "view-in-github",
        "colab_type": "text"
      },
      "source": [
        "<a href=\"https://colab.research.google.com/github/fazeli-ch/Deep-Learning-Algorithms/blob/main/Classification.ipynb\" target=\"_parent\"><img src=\"https://colab.research.google.com/assets/colab-badge.svg\" alt=\"Open In Colab\"/></a>"
      ]
    },
    {
      "cell_type": "code",
      "metadata": {
        "id": "4DiAd2F2Q3is"
      },
      "source": [
        "from __future__ import absolute_import, division, print_function, unicode_literals\n",
        "\n",
        "\n",
        "import tensorflow as tf\n",
        "\n",
        "import pandas as pd"
      ],
      "execution_count": null,
      "outputs": []
    },
    {
      "cell_type": "code",
      "metadata": {
        "id": "G42fjP2GzYsT"
      },
      "source": [
        "CSV_COLUMN_NAMES = ['SepalLength', 'SepalWidth', 'PetalLength', 'PetalWidth', 'Species']\n",
        "SPECIES = ['Setosa', 'Versicolor', 'Virginica']\n",
        "# Lets define some constants to help us later on"
      ],
      "execution_count": null,
      "outputs": []
    },
    {
      "cell_type": "code",
      "metadata": {
        "id": "L-sS0ENTzYgH"
      },
      "source": [
        "train_path = tf.keras.utils.get_file(\n",
        "    \"iris_training.csv\", \"https://storage.googleapis.com/download.tensorflow.org/data/iris_training.csv\")\n",
        "test_path = tf.keras.utils.get_file(\n",
        "    \"iris_test.csv\", \"https://storage.googleapis.com/download.tensorflow.org/data/iris_test.csv\")\n",
        "\n",
        "train = pd.read_csv(train_path, names=CSV_COLUMN_NAMES, header=0)\n",
        "test = pd.read_csv(test_path, names=CSV_COLUMN_NAMES, header=0)\n",
        "# Here we use keras (a module inside of TensorFlow) to grab our datasets and read them into a pandas dataframe\n"
      ],
      "execution_count": null,
      "outputs": []
    },
    {
      "cell_type": "code",
      "metadata": {
        "colab": {
          "base_uri": "https://localhost:8080/",
          "height": 204
        },
        "id": "G5ortGzE0XAN",
        "outputId": "16d5fae0-bccf-40bc-f849-6974fe311ed8"
      },
      "source": [
        "train.head()"
      ],
      "execution_count": null,
      "outputs": [
        {
          "output_type": "execute_result",
          "data": {
            "text/html": [
              "<div>\n",
              "<style scoped>\n",
              "    .dataframe tbody tr th:only-of-type {\n",
              "        vertical-align: middle;\n",
              "    }\n",
              "\n",
              "    .dataframe tbody tr th {\n",
              "        vertical-align: top;\n",
              "    }\n",
              "\n",
              "    .dataframe thead th {\n",
              "        text-align: right;\n",
              "    }\n",
              "</style>\n",
              "<table border=\"1\" class=\"dataframe\">\n",
              "  <thead>\n",
              "    <tr style=\"text-align: right;\">\n",
              "      <th></th>\n",
              "      <th>SepalLength</th>\n",
              "      <th>SepalWidth</th>\n",
              "      <th>PetalLength</th>\n",
              "      <th>PetalWidth</th>\n",
              "      <th>Species</th>\n",
              "    </tr>\n",
              "  </thead>\n",
              "  <tbody>\n",
              "    <tr>\n",
              "      <th>0</th>\n",
              "      <td>6.4</td>\n",
              "      <td>2.8</td>\n",
              "      <td>5.6</td>\n",
              "      <td>2.2</td>\n",
              "      <td>2</td>\n",
              "    </tr>\n",
              "    <tr>\n",
              "      <th>1</th>\n",
              "      <td>5.0</td>\n",
              "      <td>2.3</td>\n",
              "      <td>3.3</td>\n",
              "      <td>1.0</td>\n",
              "      <td>1</td>\n",
              "    </tr>\n",
              "    <tr>\n",
              "      <th>2</th>\n",
              "      <td>4.9</td>\n",
              "      <td>2.5</td>\n",
              "      <td>4.5</td>\n",
              "      <td>1.7</td>\n",
              "      <td>2</td>\n",
              "    </tr>\n",
              "    <tr>\n",
              "      <th>3</th>\n",
              "      <td>4.9</td>\n",
              "      <td>3.1</td>\n",
              "      <td>1.5</td>\n",
              "      <td>0.1</td>\n",
              "      <td>0</td>\n",
              "    </tr>\n",
              "    <tr>\n",
              "      <th>4</th>\n",
              "      <td>5.7</td>\n",
              "      <td>3.8</td>\n",
              "      <td>1.7</td>\n",
              "      <td>0.3</td>\n",
              "      <td>0</td>\n",
              "    </tr>\n",
              "  </tbody>\n",
              "</table>\n",
              "</div>"
            ],
            "text/plain": [
              "   SepalLength  SepalWidth  PetalLength  PetalWidth  Species\n",
              "0          6.4         2.8          5.6         2.2        2\n",
              "1          5.0         2.3          3.3         1.0        1\n",
              "2          4.9         2.5          4.5         1.7        2\n",
              "3          4.9         3.1          1.5         0.1        0\n",
              "4          5.7         3.8          1.7         0.3        0"
            ]
          },
          "metadata": {},
          "execution_count": 5
        }
      ]
    },
    {
      "cell_type": "code",
      "metadata": {
        "colab": {
          "base_uri": "https://localhost:8080/",
          "height": 204
        },
        "id": "KPm7-jA41cSo",
        "outputId": "a3a58f42-f57e-4a72-c53e-101f58704812"
      },
      "source": [
        "train_y = train.pop('Species')\n",
        "test_y = test.pop('Species')\n",
        "train.head() # the species column is now gone"
      ],
      "execution_count": null,
      "outputs": [
        {
          "output_type": "execute_result",
          "data": {
            "text/html": [
              "<div>\n",
              "<style scoped>\n",
              "    .dataframe tbody tr th:only-of-type {\n",
              "        vertical-align: middle;\n",
              "    }\n",
              "\n",
              "    .dataframe tbody tr th {\n",
              "        vertical-align: top;\n",
              "    }\n",
              "\n",
              "    .dataframe thead th {\n",
              "        text-align: right;\n",
              "    }\n",
              "</style>\n",
              "<table border=\"1\" class=\"dataframe\">\n",
              "  <thead>\n",
              "    <tr style=\"text-align: right;\">\n",
              "      <th></th>\n",
              "      <th>SepalLength</th>\n",
              "      <th>SepalWidth</th>\n",
              "      <th>PetalLength</th>\n",
              "      <th>PetalWidth</th>\n",
              "    </tr>\n",
              "  </thead>\n",
              "  <tbody>\n",
              "    <tr>\n",
              "      <th>0</th>\n",
              "      <td>6.4</td>\n",
              "      <td>2.8</td>\n",
              "      <td>5.6</td>\n",
              "      <td>2.2</td>\n",
              "    </tr>\n",
              "    <tr>\n",
              "      <th>1</th>\n",
              "      <td>5.0</td>\n",
              "      <td>2.3</td>\n",
              "      <td>3.3</td>\n",
              "      <td>1.0</td>\n",
              "    </tr>\n",
              "    <tr>\n",
              "      <th>2</th>\n",
              "      <td>4.9</td>\n",
              "      <td>2.5</td>\n",
              "      <td>4.5</td>\n",
              "      <td>1.7</td>\n",
              "    </tr>\n",
              "    <tr>\n",
              "      <th>3</th>\n",
              "      <td>4.9</td>\n",
              "      <td>3.1</td>\n",
              "      <td>1.5</td>\n",
              "      <td>0.1</td>\n",
              "    </tr>\n",
              "    <tr>\n",
              "      <th>4</th>\n",
              "      <td>5.7</td>\n",
              "      <td>3.8</td>\n",
              "      <td>1.7</td>\n",
              "      <td>0.3</td>\n",
              "    </tr>\n",
              "  </tbody>\n",
              "</table>\n",
              "</div>"
            ],
            "text/plain": [
              "   SepalLength  SepalWidth  PetalLength  PetalWidth\n",
              "0          6.4         2.8          5.6         2.2\n",
              "1          5.0         2.3          3.3         1.0\n",
              "2          4.9         2.5          4.5         1.7\n",
              "3          4.9         3.1          1.5         0.1\n",
              "4          5.7         3.8          1.7         0.3"
            ]
          },
          "metadata": {},
          "execution_count": 6
        }
      ]
    },
    {
      "cell_type": "code",
      "metadata": {
        "colab": {
          "base_uri": "https://localhost:8080/"
        },
        "id": "0Bba6BTt1cH-",
        "outputId": "c002c9e5-09ff-47c7-abcf-9274abcdb2c0"
      },
      "source": [
        "train.shape  # we have 120 entires with 4 features"
      ],
      "execution_count": null,
      "outputs": [
        {
          "output_type": "execute_result",
          "data": {
            "text/plain": [
              "(120, 4)"
            ]
          },
          "metadata": {},
          "execution_count": 7
        }
      ]
    },
    {
      "cell_type": "code",
      "metadata": {
        "colab": {
          "base_uri": "https://localhost:8080/"
        },
        "id": "vGJixBta1x19",
        "outputId": "e8a5237c-2b33-48b4-8429-4fd6059eab0e"
      },
      "source": [
        "train_y.head()"
      ],
      "execution_count": null,
      "outputs": [
        {
          "output_type": "execute_result",
          "data": {
            "text/plain": [
              "0    2\n",
              "1    1\n",
              "2    2\n",
              "3    0\n",
              "4    0\n",
              "Name: Species, dtype: int64"
            ]
          },
          "metadata": {},
          "execution_count": 8
        }
      ]
    },
    {
      "cell_type": "code",
      "metadata": {
        "id": "KYkFNDGm1xrU"
      },
      "source": [
        "def input_fn(features, labels, training=True, batch_size=256):\n",
        "    # Convert the inputs to a Dataset.\n",
        "    dataset = tf.data.Dataset.from_tensor_slices((dict(features), labels))\n",
        "\n",
        "    # Shuffle and repeat if you are in training mode.\n",
        "    if training:\n",
        "        dataset = dataset.shuffle(1000).repeat()\n",
        "    \n",
        "    return dataset.batch(batch_size)\n"
      ],
      "execution_count": null,
      "outputs": []
    },
    {
      "cell_type": "code",
      "metadata": {
        "colab": {
          "base_uri": "https://localhost:8080/"
        },
        "id": "PkvYYzkg3Q-u",
        "outputId": "0b8b51ea-9b9f-429f-bfa6-f8b2c19e012a"
      },
      "source": [
        "# Feature columns describe how to use the input.\n",
        "my_feature_columns = []\n",
        "for key in train.keys():\n",
        "    my_feature_columns.append(tf.feature_column.numeric_column(key=key))\n",
        "print(my_feature_columns)"
      ],
      "execution_count": null,
      "outputs": [
        {
          "output_type": "stream",
          "name": "stdout",
          "text": [
            "[NumericColumn(key='SepalLength', shape=(1,), default_value=None, dtype=tf.float32, normalizer_fn=None), NumericColumn(key='SepalWidth', shape=(1,), default_value=None, dtype=tf.float32, normalizer_fn=None), NumericColumn(key='PetalLength', shape=(1,), default_value=None, dtype=tf.float32, normalizer_fn=None), NumericColumn(key='PetalWidth', shape=(1,), default_value=None, dtype=tf.float32, normalizer_fn=None)]\n"
          ]
        }
      ]
    },
    {
      "cell_type": "code",
      "metadata": {
        "colab": {
          "base_uri": "https://localhost:8080/"
        },
        "id": "_hrbXILd3r5e",
        "outputId": "047065b6-33ef-45f9-dcf6-b213f7b06c04"
      },
      "source": [
        "# Build a DNN with 2 hidden layers with 30 and 10 hidden nodes each.\n",
        "classifier = tf.estimator.DNNClassifier(\n",
        "    feature_columns=my_feature_columns,\n",
        "    # Two hidden layers of 30 and 10 nodes respectively.\n",
        "    hidden_units=[30, 10],\n",
        "    # The model must choose between 3 classes.\n",
        "    n_classes=3)"
      ],
      "execution_count": null,
      "outputs": [
        {
          "output_type": "stream",
          "name": "stdout",
          "text": [
            "INFO:tensorflow:Using default config.\n",
            "WARNING:tensorflow:Using temporary folder as model directory: /tmp/tmpihp_afsq\n",
            "INFO:tensorflow:Using config: {'_model_dir': '/tmp/tmpihp_afsq', '_tf_random_seed': None, '_save_summary_steps': 100, '_save_checkpoints_steps': None, '_save_checkpoints_secs': 600, '_session_config': allow_soft_placement: true\n",
            "graph_options {\n",
            "  rewrite_options {\n",
            "    meta_optimizer_iterations: ONE\n",
            "  }\n",
            "}\n",
            ", '_keep_checkpoint_max': 5, '_keep_checkpoint_every_n_hours': 10000, '_log_step_count_steps': 100, '_train_distribute': None, '_device_fn': None, '_protocol': None, '_eval_distribute': None, '_experimental_distribute': None, '_experimental_max_worker_delay_secs': None, '_session_creation_timeout_secs': 7200, '_checkpoint_save_graph_def': True, '_service': None, '_cluster_spec': ClusterSpec({}), '_task_type': 'worker', '_task_id': 0, '_global_id_in_cluster': 0, '_master': '', '_evaluation_master': '', '_is_chief': True, '_num_ps_replicas': 0, '_num_worker_replicas': 1}\n"
          ]
        }
      ]
    },
    {
      "cell_type": "code",
      "metadata": {
        "colab": {
          "base_uri": "https://localhost:8080/"
        },
        "id": "zE8I8_St3rx8",
        "outputId": "6e6d5ad2-f07d-48cb-89f7-c4f8678117d9"
      },
      "source": [
        "classifier.train(\n",
        "    input_fn=lambda: input_fn(train, train_y, training=True),\n",
        "    steps=5000)\n",
        "# We include a lambda to avoid creating an inner function previously"
      ],
      "execution_count": null,
      "outputs": [
        {
          "output_type": "stream",
          "name": "stdout",
          "text": [
            "WARNING:tensorflow:From /usr/local/lib/python3.7/dist-packages/tensorflow/python/training/training_util.py:236: Variable.initialized_value (from tensorflow.python.ops.variables) is deprecated and will be removed in a future version.\n",
            "Instructions for updating:\n",
            "Use Variable.read_value. Variables in 2.X are initialized automatically both in eager and graph (inside tf.defun) contexts.\n",
            "INFO:tensorflow:Calling model_fn.\n",
            "WARNING:tensorflow:From /usr/local/lib/python3.7/dist-packages/keras/optimizer_v2/adagrad.py:84: calling Constant.__init__ (from tensorflow.python.ops.init_ops) with dtype is deprecated and will be removed in a future version.\n",
            "Instructions for updating:\n",
            "Call initializer instance with the dtype argument instead of passing it to the constructor\n",
            "INFO:tensorflow:Done calling model_fn.\n",
            "INFO:tensorflow:Create CheckpointSaverHook.\n",
            "INFO:tensorflow:Graph was finalized.\n",
            "INFO:tensorflow:Running local_init_op.\n",
            "INFO:tensorflow:Done running local_init_op.\n",
            "INFO:tensorflow:Calling checkpoint listeners before saving checkpoint 0...\n",
            "INFO:tensorflow:Saving checkpoints for 0 into /tmp/tmpihp_afsq/model.ckpt.\n",
            "INFO:tensorflow:Calling checkpoint listeners after saving checkpoint 0...\n",
            "INFO:tensorflow:loss = 1.1958847, step = 0\n",
            "INFO:tensorflow:global_step/sec: 329.127\n",
            "INFO:tensorflow:loss = 1.0528334, step = 100 (0.309 sec)\n",
            "INFO:tensorflow:global_step/sec: 420.504\n",
            "INFO:tensorflow:loss = 1.0036646, step = 200 (0.235 sec)\n",
            "INFO:tensorflow:global_step/sec: 393.457\n",
            "INFO:tensorflow:loss = 0.9737098, step = 300 (0.258 sec)\n",
            "INFO:tensorflow:global_step/sec: 373.625\n",
            "INFO:tensorflow:loss = 0.9434954, step = 400 (0.265 sec)\n",
            "INFO:tensorflow:global_step/sec: 430.995\n",
            "INFO:tensorflow:loss = 0.9197427, step = 500 (0.231 sec)\n",
            "INFO:tensorflow:global_step/sec: 390.666\n",
            "INFO:tensorflow:loss = 0.895156, step = 600 (0.257 sec)\n",
            "INFO:tensorflow:global_step/sec: 427.053\n",
            "INFO:tensorflow:loss = 0.8776413, step = 700 (0.234 sec)\n",
            "INFO:tensorflow:global_step/sec: 404.915\n",
            "INFO:tensorflow:loss = 0.8679911, step = 800 (0.250 sec)\n",
            "INFO:tensorflow:global_step/sec: 374.13\n",
            "INFO:tensorflow:loss = 0.8454105, step = 900 (0.267 sec)\n",
            "INFO:tensorflow:global_step/sec: 384.57\n",
            "INFO:tensorflow:loss = 0.84072423, step = 1000 (0.260 sec)\n",
            "INFO:tensorflow:global_step/sec: 438.115\n",
            "INFO:tensorflow:loss = 0.82724744, step = 1100 (0.229 sec)\n",
            "INFO:tensorflow:global_step/sec: 403.792\n",
            "INFO:tensorflow:loss = 0.8089462, step = 1200 (0.245 sec)\n",
            "INFO:tensorflow:global_step/sec: 442.689\n",
            "INFO:tensorflow:loss = 0.79176605, step = 1300 (0.229 sec)\n",
            "INFO:tensorflow:global_step/sec: 419.109\n",
            "INFO:tensorflow:loss = 0.78317153, step = 1400 (0.238 sec)\n",
            "INFO:tensorflow:global_step/sec: 424.974\n",
            "INFO:tensorflow:loss = 0.7691103, step = 1500 (0.235 sec)\n",
            "INFO:tensorflow:global_step/sec: 375.609\n",
            "INFO:tensorflow:loss = 0.760972, step = 1600 (0.266 sec)\n",
            "INFO:tensorflow:global_step/sec: 441.121\n",
            "INFO:tensorflow:loss = 0.75898224, step = 1700 (0.228 sec)\n",
            "INFO:tensorflow:global_step/sec: 434.407\n",
            "INFO:tensorflow:loss = 0.7497598, step = 1800 (0.231 sec)\n",
            "INFO:tensorflow:global_step/sec: 438.804\n",
            "INFO:tensorflow:loss = 0.73973083, step = 1900 (0.226 sec)\n",
            "INFO:tensorflow:global_step/sec: 392.152\n",
            "INFO:tensorflow:loss = 0.72361267, step = 2000 (0.255 sec)\n",
            "INFO:tensorflow:global_step/sec: 407.617\n",
            "INFO:tensorflow:loss = 0.7186166, step = 2100 (0.243 sec)\n",
            "INFO:tensorflow:global_step/sec: 456.82\n",
            "INFO:tensorflow:loss = 0.7067114, step = 2200 (0.222 sec)\n",
            "INFO:tensorflow:global_step/sec: 455.393\n",
            "INFO:tensorflow:loss = 0.69078684, step = 2300 (0.217 sec)\n",
            "INFO:tensorflow:global_step/sec: 431.709\n",
            "INFO:tensorflow:loss = 0.7051592, step = 2400 (0.234 sec)\n",
            "INFO:tensorflow:global_step/sec: 409.506\n",
            "INFO:tensorflow:loss = 0.68785226, step = 2500 (0.244 sec)\n",
            "INFO:tensorflow:global_step/sec: 431.033\n",
            "INFO:tensorflow:loss = 0.68057394, step = 2600 (0.230 sec)\n",
            "INFO:tensorflow:global_step/sec: 428.427\n",
            "INFO:tensorflow:loss = 0.67623377, step = 2700 (0.237 sec)\n",
            "INFO:tensorflow:global_step/sec: 438.613\n",
            "INFO:tensorflow:loss = 0.6660045, step = 2800 (0.225 sec)\n",
            "INFO:tensorflow:global_step/sec: 406.622\n",
            "INFO:tensorflow:loss = 0.670747, step = 2900 (0.245 sec)\n",
            "INFO:tensorflow:global_step/sec: 429.432\n",
            "INFO:tensorflow:loss = 0.6610571, step = 3000 (0.236 sec)\n",
            "INFO:tensorflow:global_step/sec: 409.55\n",
            "INFO:tensorflow:loss = 0.64866257, step = 3100 (0.240 sec)\n",
            "INFO:tensorflow:global_step/sec: 402.473\n",
            "INFO:tensorflow:loss = 0.6473249, step = 3200 (0.251 sec)\n",
            "INFO:tensorflow:global_step/sec: 392.624\n",
            "INFO:tensorflow:loss = 0.6421063, step = 3300 (0.252 sec)\n",
            "INFO:tensorflow:global_step/sec: 429.977\n",
            "INFO:tensorflow:loss = 0.64245963, step = 3400 (0.232 sec)\n",
            "INFO:tensorflow:global_step/sec: 415.968\n",
            "INFO:tensorflow:loss = 0.6444932, step = 3500 (0.240 sec)\n",
            "INFO:tensorflow:global_step/sec: 434.337\n",
            "INFO:tensorflow:loss = 0.6314446, step = 3600 (0.231 sec)\n",
            "INFO:tensorflow:global_step/sec: 364.07\n",
            "INFO:tensorflow:loss = 0.6086472, step = 3700 (0.274 sec)\n",
            "INFO:tensorflow:global_step/sec: 440.172\n",
            "INFO:tensorflow:loss = 0.629768, step = 3800 (0.230 sec)\n",
            "INFO:tensorflow:global_step/sec: 430.463\n",
            "INFO:tensorflow:loss = 0.6125527, step = 3900 (0.232 sec)\n",
            "INFO:tensorflow:global_step/sec: 416.819\n",
            "INFO:tensorflow:loss = 0.625492, step = 4000 (0.240 sec)\n",
            "INFO:tensorflow:global_step/sec: 386.775\n",
            "INFO:tensorflow:loss = 0.6077806, step = 4100 (0.255 sec)\n",
            "INFO:tensorflow:global_step/sec: 429.451\n",
            "INFO:tensorflow:loss = 0.60420215, step = 4200 (0.233 sec)\n",
            "INFO:tensorflow:global_step/sec: 377.643\n",
            "INFO:tensorflow:loss = 0.60673225, step = 4300 (0.267 sec)\n",
            "INFO:tensorflow:global_step/sec: 436.388\n",
            "INFO:tensorflow:loss = 0.5908318, step = 4400 (0.230 sec)\n",
            "INFO:tensorflow:global_step/sec: 406.007\n",
            "INFO:tensorflow:loss = 0.59467304, step = 4500 (0.247 sec)\n",
            "INFO:tensorflow:global_step/sec: 382.521\n",
            "INFO:tensorflow:loss = 0.56641036, step = 4600 (0.261 sec)\n",
            "INFO:tensorflow:global_step/sec: 406.601\n",
            "INFO:tensorflow:loss = 0.578377, step = 4700 (0.244 sec)\n",
            "INFO:tensorflow:global_step/sec: 421.291\n",
            "INFO:tensorflow:loss = 0.574708, step = 4800 (0.241 sec)\n",
            "INFO:tensorflow:global_step/sec: 404.564\n",
            "INFO:tensorflow:loss = 0.5799048, step = 4900 (0.243 sec)\n",
            "INFO:tensorflow:Calling checkpoint listeners before saving checkpoint 5000...\n",
            "INFO:tensorflow:Saving checkpoints for 5000 into /tmp/tmpihp_afsq/model.ckpt.\n",
            "INFO:tensorflow:Calling checkpoint listeners after saving checkpoint 5000...\n",
            "INFO:tensorflow:Loss for final step: 0.5775516.\n"
          ]
        },
        {
          "output_type": "execute_result",
          "data": {
            "text/plain": [
              "<tensorflow_estimator.python.estimator.canned.dnn.DNNClassifierV2 at 0x7f71e89ab250>"
            ]
          },
          "metadata": {},
          "execution_count": 12
        }
      ]
    },
    {
      "cell_type": "code",
      "metadata": {
        "colab": {
          "base_uri": "https://localhost:8080/"
        },
        "id": "JfHEYC9y4Zo6",
        "outputId": "7f136a15-923c-4e56-ca27-e185310f4e7f"
      },
      "source": [
        "eval_result = classifier.evaluate(\n",
        "    input_fn=lambda: input_fn(test, test_y, training=False))\n",
        "\n",
        "print('\\nTest set accuracy: {accuracy:0.3f}\\n'.format(**eval_result))"
      ],
      "execution_count": null,
      "outputs": [
        {
          "output_type": "stream",
          "name": "stdout",
          "text": [
            "INFO:tensorflow:Calling model_fn.\n",
            "INFO:tensorflow:Done calling model_fn.\n",
            "INFO:tensorflow:Starting evaluation at 2021-11-05T16:24:44\n",
            "INFO:tensorflow:Graph was finalized.\n",
            "INFO:tensorflow:Restoring parameters from /tmp/tmpihp_afsq/model.ckpt-5000\n",
            "INFO:tensorflow:Running local_init_op.\n",
            "INFO:tensorflow:Done running local_init_op.\n",
            "INFO:tensorflow:Inference Time : 0.28948s\n",
            "INFO:tensorflow:Finished evaluation at 2021-11-05-16:24:45\n",
            "INFO:tensorflow:Saving dict for global step 5000: accuracy = 0.53333336, average_loss = 0.66373444, global_step = 5000, loss = 0.66373444\n",
            "INFO:tensorflow:Saving 'checkpoint_path' summary for global step 5000: /tmp/tmpihp_afsq/model.ckpt-5000\n",
            "\n",
            "Test set accuracy: 0.533\n",
            "\n"
          ]
        }
      ]
    },
    {
      "cell_type": "code",
      "metadata": {
        "colab": {
          "base_uri": "https://localhost:8080/"
        },
        "id": "KprQ3x-c7dRH",
        "outputId": "dd1d8084-fe3e-472d-9087-748ad09d6e2c"
      },
      "source": [
        "def input_fn(features, batch_size=256):\n",
        "    # Convert the inputs to a Dataset without labels.\n",
        "    return tf.data.Dataset.from_tensor_slices(dict(features)).batch(batch_size)\n",
        "\n",
        "features = ['SepalLength', 'SepalWidth', 'PetalLength', 'PetalWidth']\n",
        "predict = {}\n",
        "\n",
        "print(\"Please type numeric values as prompted.\")\n",
        "for feature in features:\n",
        "  valid = True\n",
        "  while valid: \n",
        "    val = input(feature + \": \")\n",
        "    if not val.isdigit(): valid = False\n",
        "\n",
        "  predict[feature] = [float(val)]\n",
        "\n",
        "predictions = classifier.predict(input_fn=lambda: input_fn(predict))\n",
        "for pred_dict in predictions:\n",
        "    class_id = pred_dict['class_ids'][0]\n",
        "    probability = pred_dict['probabilities'][class_id]\n",
        "\n",
        "    print('Prediction is \"{}\" ({:.1f}%)'.format(\n",
        "        SPECIES[class_id], 100 * probability))"
      ],
      "execution_count": null,
      "outputs": [
        {
          "output_type": "stream",
          "name": "stdout",
          "text": [
            "Please type numeric values as prompted.\n",
            "SepalLength: 2.5\n",
            "SepalWidth: 2.8\n",
            "PetalLength: 3.1\n",
            "PetalWidth: 3.2\n",
            "INFO:tensorflow:Calling model_fn.\n",
            "INFO:tensorflow:Done calling model_fn.\n",
            "INFO:tensorflow:Graph was finalized.\n",
            "INFO:tensorflow:Restoring parameters from /tmp/tmpihp_afsq/model.ckpt-5000\n",
            "INFO:tensorflow:Running local_init_op.\n",
            "INFO:tensorflow:Done running local_init_op.\n",
            "Prediction is \"Virginica\" (50.4%)\n"
          ]
        }
      ]
    },
    {
      "cell_type": "code",
      "metadata": {
        "id": "1POqriAx7eQ_"
      },
      "source": [
        "# Here is some example input and expected classes you can try above\n",
        "expected = ['Setosa', 'Versicolor', 'Virginica']\n",
        "predict_x = {\n",
        "    'SepalLength': [5.1, 5.9, 6.9],\n",
        "    'SepalWidth': [3.3, 3.0, 3.1],\n",
        "    'PetalLength': [1.7, 4.2, 5.4],\n",
        "    'PetalWidth': [0.5, 1.5, 2.1],\n",
        "}"
      ],
      "execution_count": null,
      "outputs": []
    },
    {
      "cell_type": "code",
      "metadata": {
        "id": "BXhrUs0L_Sdr"
      },
      "source": [
        ""
      ],
      "execution_count": null,
      "outputs": []
    }
  ]
}